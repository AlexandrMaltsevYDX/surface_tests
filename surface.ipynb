{
 "cells": [
  {
   "cell_type": "code",
   "execution_count": 1,
   "metadata": {},
   "outputs": [],
   "source": [
    "from openai import AsyncOpenAI\n",
    "\n",
    "from processor_2 import AssistantProcessor\n",
    "\n",
    "\n",
    "client = AsyncOpenAI(os.getenv(\"OPENAI_API_KEY\"))  # noqa: E501\n",
    "\n",
    "# 1. Создание ассистента\n",
    "assistant = await client.beta.assistants.create(\n",
    "    name=\"Math Tutor\",\n",
    "    instructions=\"You are a helpful math tutor\",\n",
    "    model=\"gpt-3.5-turbo\",\n",
    "    tools=[{\"type\": \"code_interpreter\"}]\n",
    ")\n",
    "\n",
    "# 2. Создание потока\n",
    "thread = await client.beta.threads.create()\n",
    "    \n"
   ]
  },
  {
   "cell_type": "code",
   "execution_count": 2,
   "metadata": {},
   "outputs": [
    {
     "name": "stdout",
     "output_type": "stream",
     "text": [
      "Message sent successfully! user\n",
      "AsyncCursorPage[Message](data=[Message(id='msg_euZACJOCLeWgDuvpp4vUEzmW', assistant_id='asst_KU5Oi1emy4vmGMEzj9Xz90MY', attachments=[], completed_at=None, content=[TextContentBlock(text=Text(annotations=[], value='The solution to the equation \\\\(3x + 7 = 22\\\\) is \\\\(x = 5\\\\).\\n\\nHere are the solution steps:\\n1. \\\\(3x + 7 - 7 = 22 - 7\\\\)\\n2. \\\\(3x = 15\\\\)\\n3. \\\\(x = 5\\\\)'), type='text')], created_at=1733409428, incomplete_at=None, incomplete_details=None, metadata={}, object='thread.message', role='assistant', run_id='run_35Vi7pTXQPoaj3l7LUvTwsZn', status=None, thread_id='thread_QywrUhhhh4UNq9jCrqnNi51b'), Message(id='msg_vJDdq3MgJT6zF6YsABjKIpL5', assistant_id='asst_KU5Oi1emy4vmGMEzj9Xz90MY', attachments=[], completed_at=None, content=[TextContentBlock(text=Text(annotations=[], value=\"To solve the equation \\\\(3x + 7 = 22\\\\), we need to isolate the variable \\\\(x\\\\).\\n\\nLet's solve it step by step:\\n\\n1. Subtract 7 from both sides of the equation. This will help us get rid of the constant on the left side.\\n\\n\\\\[ 3x + 7 - 7 = 22 - 7 \\\\]\\n\\n2. Simplify both sides.\\n\\n\\\\[ 3x = 15 \\\\]\\n\\n3. Divide both sides by 3 to solve for \\\\(x\\\\).\\n\\n\\\\[ x = \\\\frac{15}{3} \\\\]\"), type='text')], created_at=1733409424, incomplete_at=None, incomplete_details=None, metadata={}, object='thread.message', role='assistant', run_id='run_35Vi7pTXQPoaj3l7LUvTwsZn', status=None, thread_id='thread_QywrUhhhh4UNq9jCrqnNi51b'), Message(id='msg_ghPJCpqvLMiJq6rezJpj9K0U', assistant_id=None, attachments=[], completed_at=None, content=[TextContentBlock(text=Text(annotations=[], value='Solve the equation: 3x + 7 = 22. Show all solution steps.'), type='text')], created_at=1733409422, incomplete_at=None, incomplete_details=None, metadata={}, object='thread.message', role='user', run_id=None, status=None, thread_id='thread_QywrUhhhh4UNq9jCrqnNi51b')], object='list', first_id='msg_euZACJOCLeWgDuvpp4vUEzmW', last_id='msg_ghPJCpqvLMiJq6rezJpj9K0U', has_more=False)\n",
      "\n",
      "Assistant's response:\n",
      "The solution to the equation \\(3x + 7 = 22\\) is \\(x = 5\\).\n",
      "\n",
      "Here are the solution steps:\n",
      "1. \\(3x + 7 - 7 = 22 - 7\\)\n",
      "2. \\(3x = 15\\)\n",
      "3. \\(x = 5\\)\n"
     ]
    }
   ],
   "source": [
    "\n",
    "# Инициализация имплементации\n",
    "\n",
    "\n",
    "processor = AssistantProcessor(\"openai\", \"gpt-3.5-turbo\")\n",
    "assistant = processor.processor\n",
    "\n",
    "\n",
    "async def test_conversation():\n",
    "    # Отправляем сообщение и получаем ответ\n",
    "    message = await assistant.create_message(\n",
    "        thread_id=thread.id,\n",
    "        assistant_id='asst_KU5Oi1emy4vmGMEzj9Xz90MY',\n",
    "        content=\"Solve the equation: 3x + 7 = 22. Show all solution steps.\"\n",
    "    )\n",
    "    \n",
    "    if message:\n",
    "        print(\"Message sent successfully!\", message.role)\n",
    "        \n",
    "        # Ждем и получаем ответ ассистента\n",
    "        try:\n",
    "            response = await assistant.get_assistant_response(thread.id)\n",
    "            if response and response.content:\n",
    "                print(\"\\nAssistant's response:\")\n",
    "                for content in response.content:\n",
    "                    if hasattr(content, 'text'):\n",
    "                        print(content.text.value) # type: ignore\n",
    "        except Exception as e:\n",
    "            print(f\"Error getting response: {e}\")\n",
    "    else:\n",
    "        print(\"Error sending message\")\n",
    "\n",
    "await test_conversation()\n",
    "# asst_KU5Oi1emy4vmGMEzj9Xz90MY"
   ]
  }
 ],
 "metadata": {
  "kernelspec": {
   "display_name": ".venv",
   "language": "python",
   "name": "python3"
  },
  "language_info": {
   "codemirror_mode": {
    "name": "ipython",
    "version": 3
   },
   "file_extension": ".py",
   "mimetype": "text/x-python",
   "name": "python",
   "nbconvert_exporter": "python",
   "pygments_lexer": "ipython3",
   "version": "3.12.0"
  }
 },
 "nbformat": 4,
 "nbformat_minor": 2
}
